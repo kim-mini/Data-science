{
 "cells": [
  {
   "cell_type": "markdown",
   "metadata": {},
   "source": [
    "[셀레리움 참고](https://greeksharifa.github.io/references/2020/10/30/python-selenium-usage/#install)"
   ]
  },
  {
   "cell_type": "markdown",
   "metadata": {},
   "source": [
    "# import selenium"
   ]
  },
  {
   "cell_type": "code",
   "execution_count": 12,
   "metadata": {},
   "outputs": [],
   "source": [
    "from selenium import webdriver \n",
    "from selenium.webdriver import ActionChains\n",
    "\n",
    "from selenium.webdriver.common.keys import Keys\n",
    "from selenium.webdriver.common.by import By\n",
    "\n",
    "from selenium.webdriver.support import expected_conditions as EC\n",
    "from selenium.webdriver.support.ui import Select\n",
    "from selenium.webdriver.support.ui import WebDriverWait"
   ]
  },
  {
   "cell_type": "markdown",
   "metadata": {},
   "source": [
    "# 불러오기(Driver & Web Load)"
   ]
  },
  {
   "cell_type": "code",
   "execution_count": 17,
   "metadata": {},
   "outputs": [],
   "source": [
    "URL ='http://www.chi2ko.com/ko-file/yongyan.htm'\n",
    "\n",
    "# 드라이버가 실행하는 파일과 같은 디렉토리인 경우에는 이름만 입력하면 된다\n",
    "# 다른 경로일 경우에는 상대경로나 절대경로를 이용하자\n",
    "driver = webdriver.Chrome(executable_path='/home/mini/chromedriver')\n",
    "driver.get(url=URL)"
   ]
  },
  {
   "cell_type": "markdown",
   "metadata": {},
   "source": [
    "## 현재 url 얻기"
   ]
  },
  {
   "cell_type": "code",
   "execution_count": 19,
   "metadata": {},
   "outputs": [
    {
     "name": "stdout",
     "output_type": "stream",
     "text": [
      "http://www.chi2ko.com/ko-file/yongyan.htm\n"
     ]
    }
   ],
   "source": [
    "print(driver.current_url)\n",
    "# 브라우저 닫기\n",
    "driver.close()"
   ]
  },
  {
   "cell_type": "markdown",
   "metadata": {},
   "source": [
    "## Implicit Waits(암묵적 대기)"
   ]
  },
  {
   "cell_type": "code",
   "execution_count": null,
   "metadata": {},
   "outputs": [],
   "source": [
    "# 찾으려는 element가 로드될 때까지 지정한 시간만큼 대기할 수 있도록 설정\n",
    "# 5초까지 기다려 준다는 의미\n",
    "driver.implicitly_wait(time_to_wait=5)"
   ]
  },
  {
   "cell_type": "code",
   "execution_count": 24,
   "metadata": {},
   "outputs": [
    {
     "name": "stdout",
     "output_type": "stream",
     "text": [
      "greeksharifa/greeksharifa.github.io - GitHub\n",
      "greeksharifa (sharifa) · GitHub\n",
      "Link 수정 · Issue #1 · greeksharifa/greeksharifa.github.io · GitHub\n",
      "Youyoung Jang ocasoyy - GitHub\n",
      "greeksharifa/ps_code - GitHub\n",
      "iml1111/pytorch_study: 자연어처리 / 파이토치 스터디 - GitHub\n",
      "Top 6 Similar web sites like greeksharifa.github.io and ...\n",
      "이태호\n"
     ]
    }
   ],
   "source": [
    "from selenium import webdriver\n",
    "from selenium.webdriver.common.keys import Keys\n",
    "from time import sleep\n",
    "\n",
    "options = webdriver.ChromeOptions()\n",
    "options.add_argument('window-size=1920,1080')\n",
    "\n",
    "driver = webdriver.Chrome('/home/mini/chromedriver', options=options)\n",
    "driver.implicitly_wait(5)\n",
    "# 크롤링할 주소 입력\n",
    "driver.get(url='https://www.google.com/')\n",
    "# google 검색창의 xpath 입력\n",
    "search_box = driver.find_element_by_xpath('//*[@id=\"tsf\"]/div[2]/div[1]/div[1]/div/div[2]/input')\n",
    "# 선택한 요소에 검색 키워드 보내기\n",
    "search_box.send_keys('greeksharifa.github.io')\n",
    "# Keys.RETURN : 엔터\n",
    "search_box.send_keys(Keys.RETURN)\n",
    "\n",
    "# 검색을 하고 난 뒤 목록들 전부 출력\n",
    "elements = driver.find_elements_by_xpath('//*[@id=\"rso\"]/div[*]/div/div[1]/a/h3/span')\n",
    "\n",
    "for element in elements:\n",
    "    print(element.text)\n",
    "    print(element.text, file=open('gorio.txt', 'w', encoding='utf-8'))\n",
    "\n",
    "sleep(3)\n",
    "driver.close()"
   ]
  },
  {
   "cell_type": "markdown",
   "metadata": {},
   "source": [
    "\n",
    "표현식\t설명\n",
    "~~~\n",
    "/div\troot 요소의 div 요소\n",
    "./div\t현재 요소의 자식 요소 중 div 요소\n",
    "/*\tname에 상관없이 root 요소를 선택\n",
    "./* 또는 *\tcontext 요소의 모든 자식 요소를 선택\n",
    "//div\t현재 웹페이지에서 모든 div 요소를 선택\n",
    ".//div\t현재 요소의 모든 자손 div 요소를 선택\n",
    "//*\t현재 웹페이지의 모든 요소를 선택\n",
    ".//*\t현재 요소의 모든 자손 요소를 선택\n",
    "/div/p[0]\troot > div > p 요소 중 첫 번째 p 요소를 선택\n",
    "/div/p[position()<3]\troot > div > p 요소 중 첫 두 p 요소를 선택\n",
    "/div/p[last()]\troot > div > p 요소 중 마지막 p 요소를 선택\n",
    "/bookstore/book[price>35.00]\troot > bookstore > book 요소 중 price 속성이 35.00 초과인 요소들을 선택\n",
    "//*[@id=\"tsf\"]/div[2]/\tid가 tsf인 모든 요소의 자식 div 요소 중 3번째 요소를 선택\n",
    "//title | //price\ttitle 또는 price 요소를 선택\n",
    "~~~"
   ]
  },
  {
   "cell_type": "markdown",
   "metadata": {},
   "source": [
    "~~~\n",
    "class Keys(object):\n",
    "    \"\"\"\n",
    "    Set of special keys codes.\n",
    "    \"\"\"\n",
    "\n",
    "    NULL = '\\ue000'\n",
    "    CANCEL = '\\ue001'  # ^break\n",
    "    HELP = '\\ue002'\n",
    "    BACKSPACE = '\\ue003'\n",
    "    BACK_SPACE = BACKSPACE\n",
    "    TAB = '\\ue004'\n",
    "    CLEAR = '\\ue005'\n",
    "    RETURN = '\\ue006'\n",
    "    ENTER = '\\ue007'\n",
    "    SHIFT = '\\ue008'\n",
    "    LEFT_SHIFT = SHIFT\n",
    "    CONTROL = '\\ue009'\n",
    "    LEFT_CONTROL = CONTROL\n",
    "    ALT = '\\ue00a'\n",
    "    LEFT_ALT = ALT\n",
    "    PAUSE = '\\ue00b'\n",
    "    ESCAPE = '\\ue00c'\n",
    "    SPACE = '\\ue00d'\n",
    "    PAGE_UP = '\\ue00e'\n",
    "    PAGE_DOWN = '\\ue00f'\n",
    "    END = '\\ue010'\n",
    "    HOME = '\\ue011'\n",
    "    LEFT = '\\ue012'\n",
    "    ARROW_LEFT = LEFT\n",
    "    UP = '\\ue013'\n",
    "    ARROW_UP = UP\n",
    "    RIGHT = '\\ue014'\n",
    "    ARROW_RIGHT = RIGHT\n",
    "    DOWN = '\\ue015'\n",
    "    ARROW_DOWN = DOWN\n",
    "    INSERT = '\\ue016'\n",
    "    DELETE = '\\ue017'\n",
    "    SEMICOLON = '\\ue018'\n",
    "    EQUALS = '\\ue019'\n",
    "\n",
    "    NUMPAD0 = '\\ue01a'  # number pad keys\n",
    "    NUMPAD1 = '\\ue01b'\n",
    "    NUMPAD2 = '\\ue01c'\n",
    "    NUMPAD3 = '\\ue01d'\n",
    "    NUMPAD4 = '\\ue01e'\n",
    "    NUMPAD5 = '\\ue01f'\n",
    "    NUMPAD6 = '\\ue020'\n",
    "    NUMPAD7 = '\\ue021'\n",
    "    NUMPAD8 = '\\ue022'\n",
    "    NUMPAD9 = '\\ue023'\n",
    "    MULTIPLY = '\\ue024'\n",
    "    ADD = '\\ue025'\n",
    "    SEPARATOR = '\\ue026'\n",
    "    SUBTRACT = '\\ue027'\n",
    "    DECIMAL = '\\ue028'\n",
    "    DIVIDE = '\\ue029'\n",
    "\n",
    "    F1 = '\\ue031'  # function  keys\n",
    "    F2 = '\\ue032'\n",
    "    F3 = '\\ue033'\n",
    "    F4 = '\\ue034'\n",
    "    F5 = '\\ue035'\n",
    "    F6 = '\\ue036'\n",
    "    F7 = '\\ue037'\n",
    "    F8 = '\\ue038'\n",
    "    F9 = '\\ue039'\n",
    "    F10 = '\\ue03a'\n",
    "    F11 = '\\ue03b'\n",
    "    F12 = '\\ue03c'\n",
    "\n",
    "    META = '\\ue03d'\n",
    "    COMMAND = '\\ue03d'\n",
    "텍스트 입력 지우기\n",
    "위에 나와 있는 것처럼, 입력한 텍스트를 지우는 방법은 Keys.BACKSPACE 또는 Keys.BACK_SPACE를 사용하는 것이다.\n",
    "\n",
    "만약 전체를 지우고 싶다면 Keys가 아니라, 선택한 요소에서 clear() 함수를 호출하면 된다.\n",
    "\n",
    "search_box.clear()\n",
    "~~~"
   ]
  }
 ],
 "metadata": {
  "kernelspec": {
   "display_name": "Python 3",
   "language": "python",
   "name": "python3"
  },
  "language_info": {
   "codemirror_mode": {
    "name": "ipython",
    "version": 3
   },
   "file_extension": ".py",
   "mimetype": "text/x-python",
   "name": "python",
   "nbconvert_exporter": "python",
   "pygments_lexer": "ipython3",
   "version": "3.7.9"
  },
  "toc": {
   "base_numbering": 1,
   "nav_menu": {},
   "number_sections": true,
   "sideBar": true,
   "skip_h1_title": false,
   "title_cell": "Table of Contents",
   "title_sidebar": "Contents",
   "toc_cell": false,
   "toc_position": {},
   "toc_section_display": true,
   "toc_window_display": false
  }
 },
 "nbformat": 4,
 "nbformat_minor": 4
}
