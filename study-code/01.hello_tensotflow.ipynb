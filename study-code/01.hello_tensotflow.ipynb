{
 "cells": [
  {
   "cell_type": "markdown",
   "metadata": {},
   "source": [
    "# Hello TensorFlow"
   ]
  },
  {
   "cell_type": "code",
   "execution_count": 1,
   "metadata": {},
   "outputs": [],
   "source": [
    "import tensorflow as tf"
   ]
  },
  {
   "cell_type": "code",
   "execution_count": 18,
   "metadata": {},
   "outputs": [
    {
     "name": "stdout",
     "output_type": "stream",
     "text": [
      "2.3.1\n"
     ]
    }
   ],
   "source": [
    "print(tf.__version__)"
   ]
  },
  {
   "cell_type": "code",
   "execution_count": 7,
   "metadata": {},
   "outputs": [
    {
     "name": "stdout",
     "output_type": "stream",
     "text": [
      "tf.Tensor(b'Hello, TensorFlow!', shape=(), dtype=string)\n"
     ]
    }
   ],
   "source": [
    "hello = tf.constant(\"Hello, TensorFlow!\")\n",
    "\n",
    "print(hello)"
   ]
  },
  {
   "cell_type": "markdown",
   "metadata": {},
   "source": [
    "tf.add : 덧셈\n",
    "\n",
    "tf.subtract : 뺄셈\n",
    "\n",
    "tf.multiply : 곱셈\n",
    "\n",
    "tf.divide : 나눗셈\n",
    "\n",
    "tf.pow : 곱셈\n",
    "\n",
    "tf.negative : 음수 부호\n",
    "\n",
    "tf.abs : 절대값\n",
    "\n",
    "tf.sign : 부호\n",
    "\n",
    "tf.round : 반올림\n",
    "\n",
    "tf.math.ceil : 올림\n",
    "\n",
    "tf.floor : 내림\n",
    "\n",
    "tf.math.square : 제곱\n",
    "\n",
    "tf.math.sqrt : 제곱근 \n",
    "\n",
    "tf.maximum : 두 텐서에서 최댓값\n",
    "\n",
    "tf.minimum : 두 텐서에서 최솟값\n",
    "\n",
    "tf.cumsum : 누적합\n",
    "\n",
    "tf.math.cumprod : 누적곱"
   ]
  },
  {
   "cell_type": "markdown",
   "metadata": {},
   "source": [
    "# Computational Graph"
   ]
  },
  {
   "cell_type": "code",
   "execution_count": 8,
   "metadata": {},
   "outputs": [],
   "source": [
    "# 노드 생성\n",
    "node1 = tf.constant(3.0,tf.float32)\n",
    "node2 = tf.constant(4.0,tf.float32)\n",
    "node3 = tf.add(node1,node2)"
   ]
  },
  {
   "cell_type": "code",
   "execution_count": 12,
   "metadata": {},
   "outputs": [
    {
     "name": "stdout",
     "output_type": "stream",
     "text": [
      "node1 : 3.0, node2 : 4.0\n",
      "node3 : 7.0\n"
     ]
    }
   ],
   "source": [
    "# 노드출력\n",
    "print('node1 : {}, node2 : {}\\nnode3 : {}'.format(node1,node2,node3))"
   ]
  },
  {
   "cell_type": "code",
   "execution_count": 14,
   "metadata": {},
   "outputs": [
    {
     "name": "stdout",
     "output_type": "stream",
     "text": [
      "tf.Tensor(12.0, shape=(), dtype=float32)\n"
     ]
    }
   ],
   "source": [
    "node4 = tf.multiply(node1,node2)\n",
    "print(node4)"
   ]
  },
  {
   "cell_type": "markdown",
   "metadata": {},
   "source": [
    "# @tf.function"
   ]
  },
  {
   "cell_type": "code",
   "execution_count": 23,
   "metadata": {},
   "outputs": [
    {
     "name": "stdout",
     "output_type": "stream",
     "text": [
      "tf.Tensor(5, shape=(), dtype=int32)\n"
     ]
    }
   ],
   "source": [
    "# tensorflow 2.x.x대에는 placeholder가 사라지고\n",
    "# @tf.function으로 정의한다\n",
    "@tf.function\n",
    "def adder_node(a,b):\n",
    "    return a+b\n",
    "\n",
    "print(adder_node(3,2))"
   ]
  },
  {
   "cell_type": "code",
   "execution_count": null,
   "metadata": {},
   "outputs": [],
   "source": []
  }
 ],
 "metadata": {
  "kernelspec": {
   "display_name": "Python 3",
   "language": "python",
   "name": "python3"
  },
  "language_info": {
   "codemirror_mode": {
    "name": "ipython",
    "version": 3
   },
   "file_extension": ".py",
   "mimetype": "text/x-python",
   "name": "python",
   "nbconvert_exporter": "python",
   "pygments_lexer": "ipython3",
   "version": "3.7.9"
  }
 },
 "nbformat": 4,
 "nbformat_minor": 4
}
