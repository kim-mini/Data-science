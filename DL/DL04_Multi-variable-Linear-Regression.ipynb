{
 "cells": [
  {
   "cell_type": "code",
   "execution_count": 1,
   "metadata": {},
   "outputs": [],
   "source": [
    "import numpy as np\n",
    "import tensorflow as tf"
   ]
  },
  {
   "cell_type": "markdown",
   "metadata": {},
   "source": [
    "# one-variable"
   ]
  },
  {
   "cell_type": "code",
   "execution_count": 12,
   "metadata": {},
   "outputs": [
    {
     "name": "stdout",
     "output_type": "stream",
     "text": [
      "    0 | 121355.5234 |  48.352566\n",
      "   10 | 33748.4609 |  28.762209\n",
      "   20 |  9907.1191 |  18.542505\n",
      "   30 |  3418.9419 |  13.211192\n",
      "   40 |  1653.2526 |  10.430006\n",
      "   50 |  1172.7388 |   8.979145\n",
      "   60 |  1041.9717 |   8.222274\n",
      "   70 |  1006.3849 |   7.827437\n",
      "   80 |   996.7004 |   7.621463\n",
      "   90 |   994.0648 |   7.514012\n",
      "  100 |   993.3477 |   7.457958\n",
      "  110 |   993.1523 |   7.428716\n",
      "  120 |   993.0992 |   7.413462\n",
      "  130 |   993.0848 |   7.405504\n",
      "  140 |   993.0809 |   7.401353\n",
      "  150 |   993.0797 |   7.399188\n",
      "  160 |   993.0795 |   7.398058\n",
      "  170 |   993.0793 |   7.397468\n",
      "  180 |   993.0795 |   7.397161\n",
      "  190 |   993.0794 |   7.397001\n",
      "  200 |   993.0794 |   7.396916\n",
      "  210 |   993.0793 |   7.396873\n",
      "  220 |   993.0794 |   7.396850\n",
      "  230 |   993.0795 |   7.396838\n",
      "  240 |   993.0794 |   7.396832\n",
      "  250 |   993.0793 |   7.396829\n",
      "  260 |   993.0793 |   7.396829\n",
      "  270 |   993.0793 |   7.396829\n",
      "  280 |   993.0793 |   7.396829\n",
      "  290 |   993.0793 |   7.396829\n",
      "  300 |   993.0793 |   7.396829\n"
     ]
    }
   ],
   "source": [
    "tf.random.set_seed(0)\n",
    "\n",
    "x = [10,9,3,2,11]\n",
    "y = [90,80,50,60,40]\n",
    "\n",
    "w = tf.Variable(tf.random.normal([1], -100, 100))\n",
    "\n",
    "\n",
    "\n",
    "for i in range(300+1):\n",
    "    hypothesis = w * x\n",
    "    cost = tf.reduce_mean(tf.square(hypothesis - y))\n",
    "    \n",
    "    alpha = 0.001\n",
    "    gradient = tf.reduce_mean(tf.multiply(tf.multiply(w,x)-y,x))\n",
    "    descent = w - tf.multiply(alpha, gradient)\n",
    "    w.assign(descent)\n",
    "    \n",
    "    if i % 10 == 0:\n",
    "        print('{:5} | {:10.4f} | {:10.6f}'.format(i, cost.numpy(), w.numpy()[0]))"
   ]
  },
  {
   "cell_type": "markdown",
   "metadata": {},
   "source": [
    "# multi-variable"
   ]
  },
  {
   "cell_type": "code",
   "execution_count": 14,
   "metadata": {},
   "outputs": [
    {
     "name": "stdout",
     "output_type": "stream",
     "text": [
      "[2290. 2750. 2710. 2950. 2100.]\n"
     ]
    }
   ],
   "source": [
    "# data\n",
    "x1 = [73.,93.,89.,96.,73.]\n",
    "x2 = [80.,88.,91.,98.,66.]\n",
    "x3 = [75.,93.,90.,100.,70.]\n",
    "# lable, true value\n",
    "y = [152.,185.,180.,196.,142.]\n",
    "\n",
    "# weight\n",
    "w1 = tf.Variable(10.)\n",
    "w2 = tf.Variable(10.)\n",
    "w3 = tf.Variable(10.)\n",
    "b = tf.Variable(10.)\n",
    "\n",
    "hypothesis = w1 * x1 + w2 * x2 + w3 * x3 +b\n",
    "print(hypothesis.numpy())"
   ]
  },
  {
   "cell_type": "code",
   "execution_count": 19,
   "metadata": {},
   "outputs": [
    {
     "name": "stdout",
     "output_type": "stream",
     "text": [
      "    0 |   11325.9121\n",
      "   50 |     135.3618\n",
      "  100 |      11.1817\n",
      "  150 |       9.7940\n",
      "  200 |       9.7687\n",
      "  250 |       9.7587\n",
      "  300 |       9.7489\n",
      "  350 |       9.7389\n",
      "  400 |       9.7292\n",
      "  450 |       9.7194\n",
      "  500 |       9.7096\n",
      "  550 |       9.6999\n",
      "  600 |       9.6903\n",
      "  650 |       9.6806\n",
      "  700 |       9.6709\n",
      "  750 |       9.6612\n",
      "  800 |       9.6517\n",
      "  850 |       9.6421\n",
      "  900 |       9.6325\n",
      "  950 |       9.6229\n",
      " 1000 |       9.6134\n"
     ]
    }
   ],
   "source": [
    "tf.random.set_seed(0)\n",
    "# data and label\n",
    "x1 = [73.,93.,89.,96.,73.]\n",
    "x2 = [80.,88.,91.,98.,66.]\n",
    "x3 = [75.,93.,90.,100.,70.]\n",
    "y = [152.,185.,180.,196.,142.]\n",
    "\n",
    "# random weight\n",
    "w1 = tf.Variable(tf.random.normal([1]))\n",
    "w2 = tf.Variable(tf.random.normal([1]))\n",
    "w3 = tf.Variable(tf.random.normal([1]))\n",
    "b = tf.Variable(tf.random.normal([1]))\n",
    "\n",
    "learning_rate = 0.000001\n",
    "\n",
    "for i in range (1000+1):\n",
    "    with tf.GradientTape() as tape:\n",
    "        hypothesis = w1 * x1 + w2 * x2 + w3 * x3 +b\n",
    "        cost = tf.reduce_mean(tf.square(hypothesis - y))\n",
    "    \n",
    "    # calculates the gradient of the cost\n",
    "    w1_grad, w2_grad, w3_grad, b_grad = tape.gradient(cost, [w1, w2, w3, b])\n",
    "    \n",
    "    # update w1,w2,w3 and b\n",
    "    w1.assign_sub(learning_rate * w1_grad)\n",
    "    w2.assign_sub(learning_rate * w2_grad)\n",
    "    w3.assign_sub(learning_rate * w3_grad)\n",
    "    b.assign_sub(learning_rate * b_grad)\n",
    "    \n",
    "    if i % 50 == 0:\n",
    "        print('{:5} | {:12.4f}'.format(i, cost.numpy()))"
   ]
  },
  {
   "cell_type": "markdown",
   "metadata": {},
   "source": [
    "## Mtrix\n",
    "\n",
    "    Hypothesis using matrix\n",
    "    변수가 3개이면 웨이트도 3개\n",
    "    \n",
    "    H(X) = XW\n",
    "     - X의 칼럼과 W 행이 일치해야 한다\n",
    "     - W의 행의 개수는 X의 칼럼 개수와 같고 칼럼의 개수는 아웃풋의 행의 개수와 같다"
   ]
  },
  {
   "cell_type": "code",
   "execution_count": 26,
   "metadata": {},
   "outputs": [
    {
     "name": "stdout",
     "output_type": "stream",
     "text": [
      "    0 |  3743.1343\n",
      "  100 |     3.6005\n",
      "  200 |     3.1265\n",
      "  300 |     3.1128\n",
      "  400 |     3.0994\n",
      "  500 |     3.0860\n",
      "  600 |     3.0726\n",
      "  700 |     3.0593\n",
      "  800 |     3.0460\n",
      "  900 |     3.0329\n",
      " 1000 |     3.0199\n",
      " 1100 |     3.0069\n",
      " 1200 |     2.9939\n",
      " 1300 |     2.9811\n",
      " 1400 |     2.9682\n",
      " 1500 |     2.9555\n",
      " 1600 |     2.9429\n",
      " 1700 |     2.9303\n",
      " 1800 |     2.9177\n",
      " 1900 |     2.9053\n",
      " 2000 |     2.8929\n"
     ]
    }
   ],
   "source": [
    "data = np.array([\n",
    "    # x1, x2, x3, y\n",
    "    [73., 80., 75., 152.],\n",
    "    [93., 88., 93., 185.],\n",
    "    [89., 91., 90., 180.],\n",
    "    [96., 98., 100., 196.],\n",
    "    [73., 66., 70., 142.]\n",
    "], dtype = np.float32)\n",
    "\n",
    "# slice data\n",
    "x = data[:, :-1] \n",
    "y = data[:, [-1]]\n",
    "\n",
    "w = tf.Variable(tf.random.normal([3,1]))\n",
    "b = tf.Variable(tf.random.normal([1]))\n",
    "\n",
    "learning_rate = 0.000001\n",
    "\n",
    "# hypothesis, predict function\n",
    "def predict(x):\n",
    "    return tf.matmul(x, w) + b\n",
    "\n",
    "# 학습 횟수\n",
    "n_epochs = 2000\n",
    "for i in range(n_epochs+1):\n",
    "    with tf.GradientTape() as tape:\n",
    "        cost = tf.reduce_mean(tf.square(predict(x) - y))\n",
    "        \n",
    "        w_grad, b_grad = tape.gradient(cost, [w, b])\n",
    "        \n",
    "        w.assign_sub(learning_rate * w_grad)\n",
    "        b.assign_sub(learning_rate * b_grad)\n",
    "        \n",
    "        if i % 100 == 0:\n",
    "            print('{:5} | {:10.4f}'.format(i, cost.numpy()))"
   ]
  },
  {
   "cell_type": "code",
   "execution_count": null,
   "metadata": {},
   "outputs": [],
   "source": []
  }
 ],
 "metadata": {
  "kernelspec": {
   "display_name": "Python 3",
   "language": "python",
   "name": "python3"
  },
  "language_info": {
   "codemirror_mode": {
    "name": "ipython",
    "version": 3
   },
   "file_extension": ".py",
   "mimetype": "text/x-python",
   "name": "python",
   "nbconvert_exporter": "python",
   "pygments_lexer": "ipython3",
   "version": "3.7.9"
  },
  "toc": {
   "base_numbering": 1,
   "nav_menu": {},
   "number_sections": true,
   "sideBar": true,
   "skip_h1_title": false,
   "title_cell": "Table of Contents",
   "title_sidebar": "Contents",
   "toc_cell": false,
   "toc_position": {},
   "toc_section_display": true,
   "toc_window_display": false
  }
 },
 "nbformat": 4,
 "nbformat_minor": 4
}
