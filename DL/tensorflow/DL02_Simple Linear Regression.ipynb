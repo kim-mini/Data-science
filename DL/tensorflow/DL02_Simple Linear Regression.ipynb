{
 "cells": [
  {
   "cell_type": "markdown",
   "metadata": {},
   "source": [
    "# build hypothesis and cost"
   ]
  },
  {
   "cell_type": "code",
   "execution_count": 32,
   "metadata": {},
   "outputs": [],
   "source": [
    "import numpy as np\n",
    "import tensorflow as tf\n",
    "import matplotlib.pyplot as plt"
   ]
  },
  {
   "cell_type": "code",
   "execution_count": 5,
   "metadata": {},
   "outputs": [],
   "source": [
    "x_data = list(np.arange(1,6))\n",
    "y_data = list(np.arange(1,6))\n",
    "\n",
    "W = tf.Variable(2.5)\n",
    "b = tf.Variable(0.5)\n",
    "\n",
    "# H(x) = Wx + b\n",
    "hypothesis = W * x_data + b"
   ]
  },
  {
   "cell_type": "code",
   "execution_count": 7,
   "metadata": {},
   "outputs": [],
   "source": [
    "# cost = (예측값 - 실제값)**2의 평균\n",
    "cost = tf.reduce_mean(tf.square(hypothesis - y_data))"
   ]
  },
  {
   "cell_type": "markdown",
   "metadata": {},
   "source": [
    " - ## tf.reduce_mean()\n",
    "     평균값을 구해준다 ( 차원을 한단계 내려줌)"
   ]
  },
  {
   "cell_type": "code",
   "execution_count": 12,
   "metadata": {},
   "outputs": [
    {
     "data": {
      "text/plain": [
       "<tf.Tensor: shape=(), dtype=float32, numpy=2.5>"
      ]
     },
     "execution_count": 12,
     "metadata": {},
     "output_type": "execute_result"
    }
   ],
   "source": [
    "v = [1.,2.,3.,4.]\n",
    "tf.reduce_mean(v)"
   ]
  },
  {
   "cell_type": "markdown",
   "metadata": {},
   "source": [
    " - ## tf.square()\n",
    "    넘겨받은 숫자를 제곱해준다"
   ]
  },
  {
   "cell_type": "code",
   "execution_count": 15,
   "metadata": {},
   "outputs": [
    {
     "name": "stdout",
     "output_type": "stream",
     "text": [
      "tf.Tensor(9, shape=(), dtype=int32)\n"
     ]
    }
   ],
   "source": [
    "print(tf.square(3))"
   ]
  },
  {
   "cell_type": "markdown",
   "metadata": {},
   "source": [
    "---\n",
    "\n",
    "# Gradient descent\n",
    "    - minimize(W,b)"
   ]
  },
  {
   "cell_type": "code",
   "execution_count": 25,
   "metadata": {
    "scrolled": false
   },
   "outputs": [
    {
     "data": {
      "text/plain": [
       "<tf.Variable 'UnreadVariable' shape=() dtype=float32, numpy=0.33999997>"
      ]
     },
     "execution_count": 25,
     "metadata": {},
     "output_type": "execute_result"
    }
   ],
   "source": [
    "learning_rate = 0.01\n",
    "\n",
    "with tf.GradientTape() as tape:\n",
    "    # 변수의 정보를 tape에 기록을 한다\n",
    "    hypothsis = W*x_data+b\n",
    "    cost = tf.reduce_mean(tf.square(hypothsis, y_data))\n",
    "    \n",
    "# gradient(): 함수의 변수들에 대한 기울기 값을 반환한다\n",
    "w_grad, b_grad = tape.gradient(cost, [W,b])\n",
    "\n",
    "# A.assign_sub(B) : A = A - B == A -= B\n",
    "W.assign_sub(learning_rate*w_grad)\n",
    "b.assign_sub(learning_rate*b_grad)\n",
    "# with ~ b_grad) : W, b값 1번 업데이트"
   ]
  },
  {
   "cell_type": "markdown",
   "metadata": {},
   "source": [
    "경사하강법에서는 미분을 통해 가까운 값을 찾아야함으로 원하는 값에 가까워질 때까지 반복해준다"
   ]
  },
  {
   "cell_type": "markdown",
   "metadata": {},
   "source": [
    "# Parameter(W,b) Update"
   ]
  },
  {
   "cell_type": "code",
   "execution_count": 36,
   "metadata": {},
   "outputs": [
    {
     "name": "stdout",
     "output_type": "stream",
     "text": [
      "    0|      1.92|      0.34| 76.500000\n",
      "   20|   0.05456|   -0.1641|  0.006639\n",
      "   40|   0.04313|   -0.1556|  0.004435\n",
      "   60|   0.04027|   -0.1454|  0.003873\n",
      "   80|   0.03763|   -0.1359|  0.003383\n",
      "  100|   0.03517|    -0.127|  0.002954\n",
      "  120|   0.03286|   -0.1187|  0.002580\n",
      "  140|   0.03071|   -0.1109|  0.002253\n",
      "  160|    0.0287|   -0.1036|  0.001968\n",
      "  180|   0.02682|  -0.09683|  0.001718\n",
      "  200|   0.02506|  -0.09049|  0.001501\n"
     ]
    }
   ],
   "source": [
    "W = tf.Variable(2.5)\n",
    "b = tf.Variable(0.5)\n",
    "\n",
    "w_list = []\n",
    "b_list = []\n",
    "\n",
    "for i in range(201):\n",
    "    # Gradient Descent\n",
    "    with tf.GradientTape() as tape:\n",
    "        # 변수의 정보를 tape에 기록을 한다\n",
    "        hypothsis = W*x_data+b\n",
    "        cost = tf.reduce_mean(tf.square(hypothsis, y_data))\n",
    "\n",
    "    # gradient(): 함수의 변수들에 대한 기울기 값을 반환한다\n",
    "    w_grad, b_grad = tape.gradient(cost, [W,b])\n",
    "\n",
    "    # A.assign_sub(B) : A = A - B == A -= B\n",
    "    W.assign_sub(learning_rate*w_grad)\n",
    "    b.assign_sub(learning_rate*b_grad)\n",
    "    \n",
    "    if i % 20 == 0:\n",
    "        print('{:5}|{:10.4}|{:10.4}|{:10.6f}'.format(i,W.numpy(),b.numpy(),cost))\n",
    "        w_list.append(W)\n",
    "        b_list.append(b)\n"
   ]
  },
  {
   "cell_type": "code",
   "execution_count": null,
   "metadata": {},
   "outputs": [],
   "source": []
  }
 ],
 "metadata": {
  "kernelspec": {
   "display_name": "Python 3",
   "language": "python",
   "name": "python3"
  },
  "language_info": {
   "codemirror_mode": {
    "name": "ipython",
    "version": 3
   },
   "file_extension": ".py",
   "mimetype": "text/x-python",
   "name": "python",
   "nbconvert_exporter": "python",
   "pygments_lexer": "ipython3",
   "version": "3.7.9"
  },
  "toc": {
   "base_numbering": 1,
   "nav_menu": {},
   "number_sections": true,
   "sideBar": true,
   "skip_h1_title": false,
   "title_cell": "Table of Contents",
   "title_sidebar": "Contents",
   "toc_cell": false,
   "toc_position": {},
   "toc_section_display": true,
   "toc_window_display": false
  }
 },
 "nbformat": 4,
 "nbformat_minor": 4
}
