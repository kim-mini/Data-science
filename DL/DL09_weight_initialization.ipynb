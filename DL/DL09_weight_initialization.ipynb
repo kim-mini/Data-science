{
 "cells": [
  {
   "cell_type": "code",
   "execution_count": 1,
   "metadata": {},
   "outputs": [
    {
     "name": "stdout",
     "output_type": "stream",
     "text": [
      "2.3.1\n"
     ]
    }
   ],
   "source": [
    "import tensorflow as tf\n",
    "import numpy as np\n",
    "from tensorflow.keras.utils import to_categorical\n",
    "from tensorflow.keras.datasets import mnist\n",
    "import os\n",
    "from time import time\n",
    "print(tf.__version__)"
   ]
  },
  {
   "cell_type": "code",
   "execution_count": 2,
   "metadata": {},
   "outputs": [],
   "source": [
    "# check point function\n",
    "\n",
    "def load(model, checkpoint_dir):\n",
    "    print(\" [*] Reading checkpoints...\")\n",
    "\n",
    "    ckpt = tf.train.get_checkpoint_state(checkpoint_dir)\n",
    "    if ckpt :\n",
    "        ckpt_name = os.path.basename(ckpt.model_checkpoint_path)\n",
    "        checkpoint = tf.train.Checkpoint(dnn=model)\n",
    "        checkpoint.restore(save_path=os.path.join(checkpoint_dir, ckpt_name))\n",
    "        counter = int(ckpt_name.split('-')[1])\n",
    "        print(\" [*] Success to read {}\".format(ckpt_name))\n",
    "        return True, counter\n",
    "    else:\n",
    "        print(\" [*] Failed to find a checkpoint\")\n",
    "        return False, 0\n",
    "\n",
    "def check_folder(dir):\n",
    "    if not os.path.exists(dir):\n",
    "        os.makedirs(dir)\n",
    "    return dir"
   ]
  },
  {
   "cell_type": "markdown",
   "metadata": {},
   "source": [
    "# Data load & pre-processing function"
   ]
  },
  {
   "cell_type": "code",
   "execution_count": 3,
   "metadata": {},
   "outputs": [],
   "source": [
    "# mnist 데이터 로드\n",
    "def load_mnist():\n",
    "    (x_train, y_train),(x_test, y_test) = mnist.load_data()\n",
    "    \n",
    "    # channel을 하나 추기해서 tensorflow input shape양식으로 설정해준다\n",
    "    # tensorflow input shape : [batch_size, height, width, channel]\n",
    "    # axis : 몇번째 위치에 확장할 것인가\n",
    "    x_train = np.expand_dims(x_train, axis = -1) # [N, 28, 28] -> [N, 28, 28, 1]\n",
    "    x_test = np.expand_dims(x_test, axis = -1) # [N, 28, 28] -> [N, 28, 28, 1]\n",
    "    \n",
    "    # 정규화를 하면 학습을 더 빨리하고 Local optimum 에 빠지는 가능성을 줄일 수 있다\n",
    "    x_train, x_test = normalize(x_train, x_test) # [0 ~ 255] -> [0 ~ 1]\n",
    "    # One-hot 인코딩 ex) 3 = [0,0,0,3,0,0,0,0,0,0]\n",
    "    # to_categorical의 숫자는 데이터의 label의 개수\n",
    "    y_train = to_categorical(y_train, 10) # [N,] -> [N, 10]\n",
    "    y_test = to_categorical(y_test, 10) # [N,] -> [N, 10]\n",
    "    \n",
    "    return x_train, y_train, x_test, y_test\n",
    "    \n",
    "def normalize(x_train, x_test):\n",
    "    x_train = x_train.astype(np.float32) / 255.0\n",
    "    x_test = x_test.astype(np.float32) / 255.0\n",
    "    \n",
    "    return x_train, x_test"
   ]
  },
  {
   "cell_type": "markdown",
   "metadata": {},
   "source": [
    "# Performance function"
   ]
  },
  {
   "cell_type": "code",
   "execution_count": 4,
   "metadata": {},
   "outputs": [],
   "source": [
    "# loss\n",
    "def loss_fn(model, images, labels):\n",
    "    # 모델에 이미지를 넣어서 그 모델이 이미지의 숫자 값이 뭔지 출력을 하고\n",
    "    logits = model(images, training=True)\n",
    "    # 출력값과 라벨과 softmax_cross_entropy를 이용해서 로스 구한다\n",
    "    loss = tf.reduce_mean(tf.keras.losses.categorical_crossentropy(y_pred=logits, y_true=labels, from_logits=True))\n",
    "    return loss\n",
    "\n",
    "# accuracy / 정확도\n",
    "def accuracy_fn(model, images, labels):\n",
    "    # 모델에 이미지를 넣어서 예의 이미지가 숫무자가 뭔지 구한다\n",
    "    logits = model(images, training=False)\n",
    "    # -1은 인덱스를 뜻한다 : [batch size, label_dim]\n",
    "    # tf.argmax() : logits과 labels에서 숫자가 큰값의 위치를 알려달라 = [label_dim](10개의 라벨 중에서 예측하는 값)\n",
    "    # tf.equal() : logits과 labels값이 같다면 True 다르면 False를 return\n",
    "    prediction = tf.equal(tf.argmax(logits, -1), tf.argmax(labels, -1))\n",
    "    # tf.cast(prediction, tf.float32) \n",
    "    # : prediction값을 숫자값으로 변환 -> accuracy를 구할 때 bollean값보다는 숫자값으로 해야 계산이 가능하기 때문 \n",
    "    # True = 1 / False = 0\n",
    "    accuracy = tf.reduce_mean(tf.cast(prediction, tf.float32))\n",
    "    return accuracy\n",
    "\n",
    "# gradient\n",
    "# loss에 해당하는 모델의 gradient값을 구하는 함수\n",
    "def grad(model, images, labels):\n",
    "    with tf.GradientTape() as tape:\n",
    "        loss = loss_fn(model, images, labels)\n",
    "    return tape.gradient(loss, model.variables)"
   ]
  },
  {
   "cell_type": "markdown",
   "metadata": {},
   "source": [
    "# Model function"
   ]
  },
  {
   "cell_type": "code",
   "execution_count": 5,
   "metadata": {},
   "outputs": [],
   "source": [
    "def flatten():\n",
    "    return tf.keras.layers.Flatten()\n",
    "\n",
    "def dense(channel, weight_init):\n",
    "    # units = out channel, bias = 사용여부, kernel_initializer = weight_initialize\n",
    "    return tf.keras.layers.Dense(units=channel, use_bias=True, kernel_initializer=weight_init)\n",
    "\n",
    "def relu():\n",
    "    return tf.keras.layers.Activation(tf.keras.activations.relu)"
   ]
  },
  {
   "cell_type": "markdown",
   "metadata": {},
   "source": [
    "# Create model (class version)"
   ]
  },
  {
   "cell_type": "code",
   "execution_count": 6,
   "metadata": {},
   "outputs": [],
   "source": [
    "# create models <class>\n",
    "\n",
    "# * 클래스로 모델을 만드려면 'tf.keras_model' 상속 필수\n",
    "class create_model(tf.keras.Model):\n",
    "    # label_dim = 네트워크의 로짓을 구할 때 최종적으로 몇개의 아웃풋을 내보낼 것인지\n",
    "    def __init__(self,label_dim):\n",
    "        super(create_model, self).__init__()\n",
    "    \n",
    "        # initializer.RandomNormal() : 평균이 0 분산이 1인 가우시안 분포로 랜덤한 웨이트 설정\n",
    "#         weight_init = tf.keras.initializers.RandomNormal()        \n",
    "          # xavier를 이용할 때\n",
    "       # weight_init = tf.keras.initializers.glorot_uniform()\n",
    "        # ReLu를 이용할 때\n",
    "        weight_init = tf.keras.initializers.he_uniform()\n",
    "        \n",
    "        \n",
    "        # 모델정의\n",
    "        self.model = tf.keras.Sequential()\n",
    "\n",
    "        self.model.add(flatten()) # [N, 28, 28, 1] -> [N, 784]\n",
    "\n",
    "        for i in range(2):\n",
    "            # [N, 784] -> [N, 256] -> [N, 256]\n",
    "            self.model.add(dense(256, weight_init))\n",
    "            self.model.add(relu())\n",
    "\n",
    "        # 모델의 로짓구하기\n",
    "        self.model.add(dense(label_dim, weight_init)) # [N, 256] -> [N, 10]\n",
    "\n",
    "    # 모델을 불렀을 때 아웃풋을 어떻게 낼 것 인가\n",
    "    def call(self, x, training=None, mask=None):\n",
    "        x = self.model(x)\n",
    "\n",
    "        return x"
   ]
  },
  {
   "cell_type": "markdown",
   "metadata": {},
   "source": [
    "# Create model (function version)"
   ]
  },
  {
   "cell_type": "code",
   "execution_count": 7,
   "metadata": {},
   "outputs": [],
   "source": [
    "# create model <function>\n",
    "\n",
    "def create_model_function(label_dim) :\n",
    "    weight_init = tf.keras.initializers.he_uniform()\n",
    "\n",
    "    model = tf.keras.Sequential()\n",
    "    model.add(flatten())\n",
    "\n",
    "    for i in range(2) :\n",
    "        model.add(dense(256, weight_init))\n",
    "        model.add(relu())\n",
    "\n",
    "    model.add(dense(label_dim, weight_init))\n",
    "\n",
    "    return model"
   ]
  },
  {
   "cell_type": "markdown",
   "metadata": {},
   "source": [
    "# Define data & hyper-parameter"
   ]
  },
  {
   "cell_type": "code",
   "execution_count": 8,
   "metadata": {
    "scrolled": true
   },
   "outputs": [],
   "source": [
    "# parameters\n",
    "\n",
    "\"\"\" dataset \"\"\"\n",
    "train_x, train_y, test_x, test_y = load_mnist()\n",
    "\n",
    "\"\"\" parameters \"\"\"\n",
    "learning_rate = 0.001\n",
    "batch_size = 128\n",
    "\n",
    "training_epochs = 1\n",
    "training_iterations = len(train_x) // batch_size\n",
    "\n",
    "label_dim = 10\n",
    "\n",
    "train_flag = True\n",
    "\n",
    "\"\"\" Graph Input using Dataset API \"\"\"\n",
    "# 데이터셋 API를 이용해서 각각의 데이터를 네트워크에 넣는 작업을 하기전에\n",
    "# train data = 60000장 / test = 10000장의 이미지를 가지고 있는데 한꺼번에 네트워크에 집어넣으면 네트워크에게 부담을 주게됨으로\n",
    "# 데이터들을 batch_size만큼 잘라서 넣어준다\n",
    "\n",
    "# shuffle(buffer_size = 100000) :데이터셋 섞기, buffer_size의 값은 데이터값보다 크게 설정한다\n",
    "\n",
    "# prefetch(buffer_size = batch_size)\n",
    "# : 네트워크가 데이터를 batch_size만큼 잘라서 학습을 하고 있을때 미리 메모리에 데이터를 batch_size만큼 잘라서 올려놓아라\n",
    "# -> 속도가 더 빨라진다\n",
    "\n",
    "# batch(batch_size) : batch를 batch_size 몇개만큼 던져줄 것인지\n",
    "\n",
    "# repeat() : 한번으로 끝내는 것이 아니라 계속해서 진행한다\n",
    "train_dataset = tf.data.Dataset.from_tensor_slices((train_x, train_y)).\\\n",
    "shuffle(buffer_size = 100000).\\\n",
    "prefetch(buffer_size = batch_size).\\\n",
    "batch(batch_size, drop_remainder=True)\n",
    "\n",
    "\n",
    "test_dataset = tf.data.Dataset.from_tensor_slices((test_x, test_y)).\\\n",
    "shuffle(buffer_size = 100000).\\\n",
    "prefetch(buffer_size = len(test_x)).\\\n",
    "batch(len(test_x))"
   ]
  },
  {
   "cell_type": "code",
   "execution_count": 9,
   "metadata": {
    "scrolled": true
   },
   "outputs": [],
   "source": [
    "# model\n",
    "\"\"\" Model \"\"\"\n",
    "# class\n",
    "# network = create_model(label_dim)\n",
    "# function\n",
    "network = create_model_function(label_dim)\n",
    "\n",
    "\"\"\" Training \"\"\"\n",
    "# loss minimizer\n",
    "optimizer = tf.keras.optimizers.Adam(learning_rate=learning_rate)\n",
    "\n",
    "\"\"\" Writer \"\"\"\n",
    "checkpoint_dir = 'checkpoints'\n",
    "logs_dir = 'logs'\n",
    "\n",
    "model_dir = 'nn_relu'\n",
    "\n",
    "checkpoint_dir = os.path.join(checkpoint_dir, model_dir)\n",
    "check_folder(checkpoint_dir)\n",
    "checkpoint_prefix = os.path.join(checkpoint_dir, model_dir)\n",
    "logs_dir = os.path.join(logs_dir, model_dir)"
   ]
  },
  {
   "cell_type": "code",
   "execution_count": 10,
   "metadata": {},
   "outputs": [
    {
     "name": "stdout",
     "output_type": "stream",
     "text": [
      " [*] Reading checkpoints...\n",
      " [*] Success to read nn_relu-468-1\n",
      " [*] Load SUCCESS\n"
     ]
    }
   ],
   "source": [
    "if train_flag :\n",
    "    # 네트워크가 학습을 하다가 끊겼을 때 다시 재학습을 이뤄낸다\n",
    "    # 학습종료 후 테스트 이미지에 대해 테스트를 가능하게 함\n",
    "    # 학습되어서 저장된 웨이트를 불러오는 데 도움\n",
    "    checkpoint = tf.train.Checkpoint(dnn=network)\n",
    "\n",
    "    # create writer for tensorboard\n",
    "    summary_writer = tf.summary.create_file_writer(logdir=logs_dir)\n",
    "    start_time = time()\n",
    "\n",
    "    # restore check-point if it exits\n",
    "    could_load, checkpoint_counter = load(network, checkpoint_dir)    \n",
    "\n",
    "    if could_load:\n",
    "        start_epoch = (int)(checkpoint_counter / training_iterations)        \n",
    "        counter = checkpoint_counter        \n",
    "        print(\" [*] Load SUCCESS\")\n",
    "    else:\n",
    "        start_epoch = 0\n",
    "        start_iteration = 0\n",
    "        counter = 0\n",
    "        print(\" [!] Load failed...\")\n",
    "    \n",
    "    # train phase\n",
    "    with summary_writer.as_default():  # for tensorboard\n",
    "        for epoch in range(start_epoch, training_epochs):\n",
    "            for idx, (train_input, train_label) in enumerate(train_dataset):                \n",
    "                grads = grad(network, train_input, train_label)\n",
    "                # gradient 적용후 학습을 시킴\n",
    "                optimizer.apply_gradients(grads_and_vars=zip(grads, network.variables))\n",
    "\n",
    "                train_loss = loss_fn(network, train_input, train_label)\n",
    "                train_accuracy = accuracy_fn(network, train_input, train_label)\n",
    "\n",
    "                for test_input, test_label in test_dataset:                \n",
    "                    test_accuracy = accuracy_fn(network, test_input, test_label)\n",
    "\n",
    "                tf.summary.scalar(name='train_loss', data=train_loss, step=counter)\n",
    "                tf.summary.scalar(name='train_accuracy', data=train_accuracy, step=counter)\n",
    "                tf.summary.scalar(name='test_accuracy', data=test_accuracy, step=counter)\n",
    "\n",
    "                print(\n",
    "                    \"Epoch: [%2d] [%5d/%5d] time: %4.4f, train_loss: %.8f, train_accuracy: %.4f, test_Accuracy: %.4f\" \\\n",
    "                    % (epoch, idx, training_iterations, time() - start_time, train_loss, train_accuracy,\n",
    "                       test_accuracy))\n",
    "                counter += 1  \n",
    "        # weight 파일저장\n",
    "        checkpoint.save(file_prefix=checkpoint_prefix + '-{}'.format(counter))\n",
    "\n",
    "# test phase      \n",
    "else :\n",
    "    _, _ = load(network, checkpoint_dir)\n",
    "    for test_input, test_label in test_dataset:    \n",
    "        test_accuracy = accuracy_fn(network, test_input, test_label)\n",
    "\n",
    "    print(\"test_Accuracy: %.4f\" % (test_accuracy))"
   ]
  },
  {
   "cell_type": "code",
   "execution_count": null,
   "metadata": {},
   "outputs": [],
   "source": []
  }
 ],
 "metadata": {
  "kernelspec": {
   "display_name": "Python 3",
   "language": "python",
   "name": "python3"
  },
  "language_info": {
   "codemirror_mode": {
    "name": "ipython",
    "version": 3
   },
   "file_extension": ".py",
   "mimetype": "text/x-python",
   "name": "python",
   "nbconvert_exporter": "python",
   "pygments_lexer": "ipython3",
   "version": "3.7.9"
  },
  "toc": {
   "base_numbering": 1,
   "nav_menu": {},
   "number_sections": true,
   "sideBar": true,
   "skip_h1_title": false,
   "title_cell": "Table of Contents",
   "title_sidebar": "Contents",
   "toc_cell": false,
   "toc_position": {},
   "toc_section_display": true,
   "toc_window_display": false
  }
 },
 "nbformat": 4,
 "nbformat_minor": 4
}
