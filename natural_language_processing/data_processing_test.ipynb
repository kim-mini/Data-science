{
 "cells": [
  {
   "cell_type": "code",
   "execution_count": 99,
   "metadata": {},
   "outputs": [],
   "source": [
    "from konlpy.tag import Mecab\n",
    "from konlpy.tag import Okt\n"
   ]
  },
  {
   "cell_type": "code",
   "execution_count": 124,
   "metadata": {},
   "outputs": [
    {
     "name": "stdout",
     "output_type": "stream",
     "text": [
      "['영수', '전화']\n",
      "['영수', '전화']\n",
      "['영수', '전화']\n",
      "['영수', '전화']\n",
      "['일', '시', '일정']\n",
      "['전화', '걸', '어', '줘']\n",
      "['전화', '걸어줘']\n",
      "[('전화', 'Noun'), ('걸다', 'Verb')]\n",
      "[('전화', 'Noun'), ('걸다', 'Verb')]\n",
      "[('전화', 'Noun'), ('걸다', 'Verb'), ('보다', 'Verb')]\n",
      "[('16일', 'Number'), ('6시', 'Number'), ('에', 'Foreign'), ('일정', 'Noun'), ('등록', 'Noun'), ('해주다', 'Verb')]\n"
     ]
    }
   ],
   "source": [
    "mecab = Mecab()\n",
    "print(mecab.nouns(u'영수한테 전화 걸어줘'))\n",
    "print(mecab.nouns(u'영수한테 전화'))\n",
    "print(mecab.nouns(u'영수한테 전화 할래'))\n",
    "print(mecab.nouns(u'영수한테 전화 해줄래'))\n",
    "\n",
    "print(mecab.nouns(u'16일 6시에 일정 맞춰줘'))\n",
    "print(mecab.morphs('전화 걸어줘'))\n",
    "okt = Okt()\n",
    "print(okt.morphs(u'전화 걸어줘'))\n",
    "print(okt.pos(u'전화 걸어줘', norm=True, stem=True))\n",
    "print(okt.pos(u'전화 걸까', norm=True, stem=True))\n",
    "print(okt.pos(u'전화 걸어보자', norm=True, stem=True))\n",
    "print(okt.pos(u'16일 6시에 일정등록해줘', norm=True, stem=True))"
   ]
  },
  {
   "cell_type": "code",
   "execution_count": 123,
   "metadata": {},
   "outputs": [
    {
     "name": "stdout",
     "output_type": "stream",
     "text": [
      "전화를 겁니다\n"
     ]
    }
   ],
   "source": [
    "command = '영희한테 전화 걸어볼까나'\n",
    "a = mecab.nouns(f\"u'{command}'\")\n",
    "#print(a)\n",
    "call = ['전화', '통화']\n",
    "\n",
    "for j in a:\n",
    "    \n",
    "    if j in call:\n",
    "        print('전화를 겁니다')\n",
    "    else :\n",
    "        pass\n",
    "#print(a)"
   ]
  },
  {
   "cell_type": "code",
   "execution_count": 81,
   "metadata": {},
   "outputs": [
    {
     "name": "stdout",
     "output_type": "stream",
     "text": [
      "say hi\n"
     ]
    }
   ],
   "source": [
    "a = 'hi'\n",
    "b = f'say {a}'\n",
    "print(b)"
   ]
  },
  {
   "cell_type": "code",
   "execution_count": null,
   "metadata": {},
   "outputs": [],
   "source": []
  }
 ],
 "metadata": {
  "kernelspec": {
   "display_name": "Python 3",
   "language": "python",
   "name": "python3"
  },
  "language_info": {
   "codemirror_mode": {
    "name": "ipython",
    "version": 3
   },
   "file_extension": ".py",
   "mimetype": "text/x-python",
   "name": "python",
   "nbconvert_exporter": "python",
   "pygments_lexer": "ipython3",
   "version": "3.7.9"
  },
  "toc": {
   "base_numbering": 1,
   "nav_menu": {},
   "number_sections": true,
   "sideBar": true,
   "skip_h1_title": false,
   "title_cell": "Table of Contents",
   "title_sidebar": "Contents",
   "toc_cell": false,
   "toc_position": {},
   "toc_section_display": true,
   "toc_window_display": false
  }
 },
 "nbformat": 4,
 "nbformat_minor": 4
}
