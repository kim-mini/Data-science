{
 "cells": [
  {
   "cell_type": "markdown",
   "metadata": {},
   "source": [
    "kolaw : 한국 법률 말뭉치\n",
    "\n",
    "kobill : 대한민국 국회 의안 말뭉치"
   ]
  },
  {
   "cell_type": "code",
   "execution_count": 1,
   "metadata": {},
   "outputs": [],
   "source": [
    "from konlpy.corpus import kolaw\n",
    "from konlpy.corpus import kobill"
   ]
  },
  {
   "cell_type": "code",
   "execution_count": 2,
   "metadata": {},
   "outputs": [],
   "source": [
    "law = kolaw.open('constitution.txt').read()[:20]"
   ]
  },
  {
   "cell_type": "code",
   "execution_count": 3,
   "metadata": {},
   "outputs": [],
   "source": [
    "bill = kobill.open('1809890.txt').read()"
   ]
  },
  {
   "cell_type": "markdown",
   "metadata": {},
   "source": [
    "## 연습문제 \n",
    "\n",
    "단어 임베딩이나 형태소 분석 등을 연습해보자"
   ]
  },
  {
   "cell_type": "code",
   "execution_count": 4,
   "metadata": {},
   "outputs": [],
   "source": [
    "from konlpy.tag import *"
   ]
  },
  {
   "cell_type": "markdown",
   "metadata": {},
   "source": [
    "### okt"
   ]
  },
  {
   "cell_type": "code",
   "execution_count": 5,
   "metadata": {},
   "outputs": [
    {
     "name": "stdout",
     "output_type": "stream",
     "text": [
      "['지방공무원법', '일부', '개정', '법률', '안', '\\n\\n', '(', '정의화', '의원', '대표', '발의', ')', '\\n\\n ', '의', '안', '\\n ', '번', '호', '\\n\\n', '9890', '\\n\\n', '발의', '연월일', ':', '2010', '.', '11', '.', '12', '.', '발', '의', '자', ':', '정의화', '․', '이명수', '․', '김을동', '이사철', '․', '여상규', '․', '안규백', '\\n\\n', '황영철', '․', '박영아', '․', '김정훈']\n",
      "['지방공무원법', '일부', '개정', '법률', '안', '\\n\\n', '(', '정의화', '의원', '대표', '발의', ')', '\\n\\n ', '의', '안', '\\n ', '번', '호', '\\n\\n', '9890', '\\n\\n', '발의', '연월일', ':', '2010', '.', '11', '.', '12', '.', '발', '의', '자', ':', '정의화', '․', '이명수', '․', '김을동', '이사철', '․', '여상규', '․', '안규백', '\\n\\n', '황영철', '․', '박영아', '․', '김정훈']\n"
     ]
    }
   ],
   "source": [
    "okt = Okt()\n",
    "print(okt.morphs(bill)[:50])\n",
    "print(okt.morphs(bill, stem = True)[:50])"
   ]
  },
  {
   "cell_type": "code",
   "execution_count": 6,
   "metadata": {},
   "outputs": [
    {
     "name": "stdout",
     "output_type": "stream",
     "text": [
      "['지방공무원법', '일부', '개정', '법률', '안', '정의화', '의원', '대표', '발의', '의', '안', '번', '호', '발의', '연월일', '발', '의', '자', '정의화', '이명수', '김을동', '이사철', '여상규', '안규백', '황영철', '박영아', '김정훈', '김학송', '의원', '인', '제안', '이유', '및', '내용', '초등학교', '저학년', '경우', '부모', '사랑', '필요', '나이', '현재', '공무원', '자녀', '양육', '위', '육아휴직', '수', '자녀', '나이']\n"
     ]
    }
   ],
   "source": [
    "print(okt.nouns(bill)[:50])"
   ]
  },
  {
   "cell_type": "code",
   "execution_count": 7,
   "metadata": {},
   "outputs": [
    {
     "name": "stdout",
     "output_type": "stream",
     "text": [
      "['지방공무원법', '지방공무원법 일부개정법률안', '정의화의원', '정의화의원 대표발의', '9890', '발의연월일', '2010', '11', '12', '정의화', '이명수', '김을동', '김을동 \\n\\n이사철', '여상규', '안규백', '황영철', '박영아', '김정훈', '김학송', '김학송 의원', '10인', '제안이유', '제안이유 및', '제안이유 및 주요내용', '초등학교', '초등학교 저학년', '초등학교 저학년의 경우', '부모', '부모의 따뜻한 사랑', '필요', '나이', '현재', '현재 공무원', '자녀', '양육', '육아휴직', '수 있는 자녀', '수 있는 자녀의 나이', '만 6세', '만 6세 이하', '위해서는 해당', '위해서는 해당 부모님', '일자리', '곧 출산의욕', '저하', '저하시키는 문제', '수 있을 것임', '따라서', '따라서 육아휴직', '가능한 자녀']\n"
     ]
    }
   ],
   "source": [
    "print(okt.phrases(bill)[:50])"
   ]
  },
  {
   "cell_type": "code",
   "execution_count": 8,
   "metadata": {},
   "outputs": [
    {
     "name": "stdout",
     "output_type": "stream",
     "text": [
      "[('지방공무원법', 'Noun'), ('일부', 'Noun'), ('개정', 'Noun'), ('법률', 'Noun'), ('안', 'Noun'), ('\\n\\n', 'Foreign'), ('(', 'Punctuation'), ('정의화', 'Noun'), ('의원', 'Noun'), ('대표', 'Noun'), ('발의', 'Noun'), (')', 'Punctuation'), ('\\n\\n ', 'Foreign'), ('의', 'Noun'), ('안', 'Noun'), ('\\n ', 'Foreign'), ('번', 'Noun'), ('호', 'Noun'), ('\\n\\n', 'Foreign'), ('9890', 'Number'), ('\\n\\n', 'Foreign'), ('발의', 'Noun'), ('연월일', 'Noun'), (':', 'Punctuation'), ('2010', 'Number'), ('.', 'Punctuation'), ('11', 'Number'), ('.', 'Punctuation'), ('12', 'Number'), ('.', 'Punctuation'), ('발', 'Noun'), ('의', 'Noun'), ('자', 'Noun'), (':', 'Punctuation'), ('정의화', 'Noun'), ('․', 'Foreign'), ('이명수', 'Noun'), ('․', 'Foreign'), ('김을동', 'Noun'), ('이사철', 'Noun'), ('․', 'Foreign'), ('여상규', 'Noun'), ('․', 'Foreign'), ('안규백', 'Noun'), ('\\n\\n', 'Foreign'), ('황영철', 'Noun'), ('․', 'Foreign'), ('박영아', 'Noun'), ('․', 'Foreign'), ('김정훈', 'Noun')]\n",
      "['지방공무원법/Noun', '일부/Noun', '개정/Noun', '법률/Noun', '안/Noun', '\\n\\n/Foreign', '(/Punctuation', '정의화/Noun', '의원/Noun', '대표/Noun', '발의/Noun', ')/Punctuation', '\\n\\n /Foreign', '의/Noun', '안/Noun', '\\n /Foreign', '번/Noun', '호/Noun', '\\n\\n/Foreign', '9890/Number', '\\n\\n/Foreign', '발의/Noun', '연월일/Noun', ':/Punctuation', '2010/Number', './Punctuation', '11/Number', './Punctuation', '12/Number', './Punctuation', '발/Noun', '의/Noun', '자/Noun', ':/Punctuation', '정의화/Noun', '․/Foreign', '이명수/Noun', '․/Foreign', '김을동/Noun', '이사철/Noun', '․/Foreign', '여상규/Noun', '․/Foreign', '안규백/Noun', '\\n\\n/Foreign', '황영철/Noun', '․/Foreign', '박영아/Noun', '․/Foreign', '김정훈/Noun']\n"
     ]
    }
   ],
   "source": [
    "print(okt.pos(bill)[:50])\n",
    "print(okt.pos(bill, join=True)[:50])"
   ]
  },
  {
   "cell_type": "markdown",
   "metadata": {},
   "source": [
    "### komoran"
   ]
  },
  {
   "cell_type": "code",
   "execution_count": 9,
   "metadata": {},
   "outputs": [],
   "source": [
    "komoran = Komoran()"
   ]
  },
  {
   "cell_type": "code",
   "execution_count": 10,
   "metadata": {
    "scrolled": true
   },
   "outputs": [
    {
     "name": "stdout",
     "output_type": "stream",
     "text": [
      "['대한민국', '헌법', '유구', '하', 'ㄴ', '역사', '와', '전통', '에']\n",
      "['대한민국', '헌법', '역사', '전통']\n",
      "['대한민국/NNP', '헌법/NNP', '유구/XR', '하/XSA', 'ㄴ/ETM', '역사/NNG', '와/JC', '전통/NNG', '에/JKB']\n"
     ]
    }
   ],
   "source": [
    "print(komoran.morphs(law))\n",
    "print(komoran.nouns(law))\n",
    "print(komoran.pos(law, join = True))"
   ]
  },
  {
   "cell_type": "code",
   "execution_count": 19,
   "metadata": {},
   "outputs": [
    {
     "name": "stdout",
     "output_type": "stream",
     "text": [
      "['오늘', '6시', '에', '알람', '맞추다']\n",
      "['오늘', '6시', '에', '알람', '맞추다', '놓다']\n",
      "['오늘', '6시', '에', '알람', '맞추다', '?']\n",
      "False\n",
      "['오늘', '6시', '에', '알람', '맞추다', '?']\n"
     ]
    }
   ],
   "source": [
    "a = '오늘 6시에 알람 맞춰줘'\n",
    "b = '오늘 6시에 알람 맞춰놔'\n",
    "c = '오늘 6시에 알람 맞춰주련?'\n",
    "d = '오늘 6시에 알람 설정해줘'\n",
    "e = '오늘 6시에 알람 맞춰줄래?'\n",
    "\n",
    "print(okt.morphs(a, stem=True))\n",
    "print(okt.morphs(b, stem=True))\n",
    "print(okt.morphs(c, stem=True))\n",
    "print('놓다' in okt.morphs(d, stem=True))\n",
    "print(okt.morphs(e, stem=True))"
   ]
  },
  {
   "cell_type": "code",
   "execution_count": null,
   "metadata": {},
   "outputs": [],
   "source": []
  }
 ],
 "metadata": {
  "kernelspec": {
   "display_name": "Python 3",
   "language": "python",
   "name": "python3"
  },
  "language_info": {
   "codemirror_mode": {
    "name": "ipython",
    "version": 3
   },
   "file_extension": ".py",
   "mimetype": "text/x-python",
   "name": "python",
   "nbconvert_exporter": "python",
   "pygments_lexer": "ipython3",
   "version": "3.7.9"
  },
  "toc": {
   "base_numbering": 1,
   "nav_menu": {},
   "number_sections": true,
   "sideBar": true,
   "skip_h1_title": false,
   "title_cell": "Table of Contents",
   "title_sidebar": "Contents",
   "toc_cell": false,
   "toc_position": {},
   "toc_section_display": true,
   "toc_window_display": false
  }
 },
 "nbformat": 4,
 "nbformat_minor": 4
}
